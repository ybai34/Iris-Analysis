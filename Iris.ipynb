{
 "cells": [
  {
   "cell_type": "code",
   "execution_count": 1,
   "id": "da24337c",
   "metadata": {},
   "outputs": [
    {
     "name": "stderr",
     "output_type": "stream",
     "text": [
      "D:\\anaconda3\\Lib\\site-packages\\sklearn\\cluster\\_kmeans.py:1412: FutureWarning: The default value of `n_init` will change from 10 to 'auto' in 1.4. Set the value of `n_init` explicitly to suppress the warning\n",
      "  super()._check_params_vs_input(X, default_n_init=10)\n",
      "D:\\anaconda3\\Lib\\site-packages\\sklearn\\cluster\\_kmeans.py:1436: UserWarning: KMeans is known to have a memory leak on Windows with MKL, when there are less chunks than available threads. You can avoid it by setting the environment variable OMP_NUM_THREADS=1.\n",
      "  warnings.warn(\n",
      "D:\\anaconda3\\Lib\\site-packages\\sklearn\\cluster\\_kmeans.py:1930: FutureWarning: The default value of `n_init` will change from 3 to 'auto' in 1.4. Set the value of `n_init` explicitly to suppress the warning\n",
      "  super()._check_params_vs_input(X, default_n_init=3)\n",
      "D:\\anaconda3\\Lib\\site-packages\\sklearn\\cluster\\_kmeans.py:1962: UserWarning: MiniBatchKMeans is known to have a memory leak on Windows with MKL, when there are less chunks than available threads. You can prevent it by setting batch_size >= 1024 or by setting the environment variable OMP_NUM_THREADS=1\n",
      "  warnings.warn(\n",
      "D:\\anaconda3\\Lib\\site-packages\\sklearn\\manifold\\_spectral_embedding.py:273: UserWarning: Graph is not fully connected, spectral embedding may not work as expected.\n",
      "  warnings.warn(\n",
      "D:\\anaconda3\\Lib\\site-packages\\sklearn\\cluster\\_kmeans.py:1436: UserWarning: KMeans is known to have a memory leak on Windows with MKL, when there are less chunks than available threads. You can avoid it by setting the environment variable OMP_NUM_THREADS=1.\n",
      "  warnings.warn(\n"
     ]
    },
    {
     "data": {
      "text/plain": [
       "(0.7364192881252849,\n",
       " 0.7234500887213591,\n",
       " 0.7697177990193531,\n",
       " 0.7695955651465264)"
      ]
     },
     "execution_count": 1,
     "metadata": {},
     "output_type": "execute_result"
    }
   ],
   "source": [
    "from sklearn import datasets\n",
    "from sklearn.preprocessing import MinMaxScaler\n",
    "from sklearn.cluster import KMeans, MiniBatchKMeans, AgglomerativeClustering, SpectralClustering\n",
    "from sklearn.metrics import homogeneity_score\n",
    "\n",
    "# Load the Iris dataset\n",
    "iris = datasets.load_iris()\n",
    "X = iris.data\n",
    "y = iris.target\n",
    "\n",
    "# Exclude the class variable and perform 0-1 normalization on all variables\n",
    "scaler = MinMaxScaler()\n",
    "X_scaled = scaler.fit_transform(X)\n",
    "\n",
    "# Initialize clustering algorithms\n",
    "kmeans = KMeans(n_clusters=3)\n",
    "minibatch_kmeans = MiniBatchKMeans(n_clusters=3)\n",
    "agglomerative = AgglomerativeClustering(n_clusters=3)\n",
    "spectral = SpectralClustering(n_clusters=3, affinity='nearest_neighbors')\n",
    "\n",
    "# Fit the models and predict the clusters\n",
    "kmeans_clusters = kmeans.fit_predict(X_scaled)\n",
    "minibatch_kmeans_clusters = minibatch_kmeans.fit_predict(X_scaled)\n",
    "agglomerative_clusters = agglomerative.fit_predict(X_scaled)\n",
    "spectral_clusters = spectral.fit_predict(X_scaled)\n",
    "\n",
    "# Calculate homogeneity scores\n",
    "kmeans_homogeneity = homogeneity_score(y, kmeans_clusters)\n",
    "minibatch_kmeans_homogeneity = homogeneity_score(y, minibatch_kmeans_clusters)\n",
    "agglomerative_homogeneity = homogeneity_score(y, agglomerative_clusters)\n",
    "spectral_homogeneity = homogeneity_score(y, spectral_clusters)\n",
    "\n",
    "(kmeans_homogeneity, minibatch_kmeans_homogeneity, agglomerative_homogeneity, spectral_homogeneity)\n"
   ]
  },
  {
   "cell_type": "code",
   "execution_count": null,
   "id": "22dd65fa",
   "metadata": {},
   "outputs": [],
   "source": []
  }
 ],
 "metadata": {
  "kernelspec": {
   "display_name": "Python 3 (ipykernel)",
   "language": "python",
   "name": "python3"
  },
  "language_info": {
   "codemirror_mode": {
    "name": "ipython",
    "version": 3
   },
   "file_extension": ".py",
   "mimetype": "text/x-python",
   "name": "python",
   "nbconvert_exporter": "python",
   "pygments_lexer": "ipython3",
   "version": "3.11.5"
  }
 },
 "nbformat": 4,
 "nbformat_minor": 5
}
